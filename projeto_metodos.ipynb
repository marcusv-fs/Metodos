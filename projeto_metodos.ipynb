{
  "nbformat": 4,
  "nbformat_minor": 0,
  "metadata": {
    "colab": {
      "name": "projeto_metodos.ipynb",
      "provenance": [],
      "authorship_tag": "ABX9TyPR6ceGpdD8D9nn9/wVCt9l",
      "include_colab_link": true
    },
    "kernelspec": {
      "name": "python3",
      "display_name": "Python 3"
    },
    "language_info": {
      "name": "python"
    }
  },
  "cells": [
    {
      "cell_type": "markdown",
      "metadata": {
        "id": "view-in-github",
        "colab_type": "text"
      },
      "source": [
        "<a href=\"https://colab.research.google.com/github/marcusv-fs/Metodos/blob/main/projeto_metodos.ipynb\" target=\"_parent\"><img src=\"https://colab.research.google.com/assets/colab-badge.svg\" alt=\"Open In Colab\"/></a>"
      ]
    },
    {
      "cell_type": "code",
      "execution_count": null,
      "metadata": {
        "id": "HmSL7rBnDtFu"
      },
      "outputs": [],
      "source": [
        "import numpy as np\n",
        "from scipy.integrate import odeint\n",
        "import matplotlib.pyplot as plt"
      ]
    },
    {
      "cell_type": "markdown",
      "source": [],
      "metadata": {
        "id": "q4WWjEc_2t7e"
      }
    },
    {
      "cell_type": "code",
      "source": [
        "class LassoRegression() :\n",
        "      \n",
        "    def __init__( self, learning_rate, iterations, penality ) :\n",
        "          \n",
        "        self.learning_rate = learning_rate\n",
        "          \n",
        "        self.iterations = iterations\n",
        "          \n",
        "        self.penality = penality\n",
        "          \n",
        "    #modelo de treinamento       \n",
        "    def fit( self, X, Y ) :\n",
        "          \n",
        "          \n",
        "        self.line, self.colum = X.shape\n",
        "          \n",
        "          \n",
        "        self.W = np.zeros( self.colum )\n",
        "          \n",
        "        self.bias = 0\n",
        "          \n",
        "        self.X = X\n",
        "          \n",
        "        self.Y = Y\n",
        "          \n",
        "                  \n",
        "        for i in range( self.iterations ) :\n",
        "              \n",
        "            self.update_weights()\n",
        "              \n",
        "        return self\n",
        "      \n",
        "    #atualiza os pesos dos gradientes  \n",
        "    def update_weights( self ) :\n",
        "             \n",
        "        Y_pred = self.predict( self.X )\n",
        "          \n",
        "          \n",
        "        dW = np.zeros( self.colum )\n",
        "          \n",
        "        for j in range( self.colum ) :\n",
        "              \n",
        "            if self.W[j] > 0 :\n",
        "                  \n",
        "                dW[j] = ( - ( 2 * ( self.X[:, j] ).dot( self.Y - Y_pred ) ) \n",
        "                           \n",
        "                         + self.penality ) / self.line\n",
        "          \n",
        "            else :\n",
        "                  \n",
        "                dW[j] = ( - ( 2 * ( self.X[:, j] ).dot( self.Y - Y_pred ) ) \n",
        "                           \n",
        "                         - self.penality ) / self.line\n",
        "  \n",
        "       \n",
        "        db = - 2 * np.sum( self.Y - Y_pred ) / self.line \n",
        "          \n",
        "      \n",
        "        self.W = self.W - self.learning_rate * dW\n",
        "      \n",
        "        self.bias = self.bias - self.learning_rate * db\n",
        "          \n",
        "        return self\n",
        "      \n",
        "    #funcao hipotetica\n",
        "    def predict( self, X ) :\n",
        "      \n",
        "        return X.dot( self.W ) + self.bias\n",
        "      "
      ],
      "metadata": {
        "id": "kJIZgAx__L8L"
      },
      "execution_count": null,
      "outputs": []
    }
  ]
}